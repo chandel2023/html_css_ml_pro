{
  "nbformat": 4,
  "nbformat_minor": 0,
  "metadata": {
    "colab": {
      "provenance": [],
      "authorship_tag": "ABX9TyNITeS8jTypdy17x7hwUlVM",
      "include_colab_link": true
    },
    "kernelspec": {
      "name": "python3",
      "display_name": "Python 3"
    },
    "language_info": {
      "name": "python"
    }
  },
  "cells": [
    {
      "cell_type": "markdown",
      "metadata": {
        "id": "view-in-github",
        "colab_type": "text"
      },
      "source": [
        "<a href=\"https://colab.research.google.com/github/chandel2023/html_css_ml_pro/blob/main/dsa%20python.ipynb\" target=\"_parent\"><img src=\"https://colab.research.google.com/assets/colab-badge.svg\" alt=\"Open In Colab\"/></a>"
      ]
    },
    {
      "cell_type": "code",
      "execution_count": 1,
      "metadata": {
        "colab": {
          "base_uri": "https://localhost:8080/"
        },
        "id": "Wyu47Xcawbaa",
        "outputId": "7edbad2d-b989-47be-d274-738b7f97ba1a"
      },
      "outputs": [
        {
          "output_type": "stream",
          "name": "stdout",
          "text": [
            "dsa py\n"
          ]
        }
      ],
      "source": [
        "print('dsa py')"
      ]
    },
    {
      "cell_type": "code",
      "source": [
        "# singly linked lists\n",
        "class SinglyNode:\n",
        "  def __init__(self, val, next=None):\n",
        "    self.val = val\n",
        "    self.next = next\n",
        "  def __str__(self):\n",
        "    return str(self.val)"
      ],
      "metadata": {
        "id": "oIIicgEKwfeb"
      },
      "execution_count": 2,
      "outputs": []
    },
    {
      "cell_type": "code",
      "source": [
        "Head = SinglyNode(1)\n",
        "A= SinglyNode(3)\n",
        "B= SinglyNode(5)\n",
        "C= SinglyNode(7)\n",
        "Head.next = A\n",
        "A.next = B\n",
        "B.next = C\n",
        "print(Head)\n",
        "print(Head.next)\n",
        "print(Head.next.next)\n",
        "print(Head.next.next.next)"
      ],
      "metadata": {
        "id": "QdVLLEu0xmnB",
        "outputId": "8a7c3093-f040-4563-d664-e886a3b5c8c1",
        "colab": {
          "base_uri": "https://localhost:8080/"
        }
      },
      "execution_count": 3,
      "outputs": [
        {
          "output_type": "stream",
          "name": "stdout",
          "text": [
            "1\n",
            "3\n",
            "5\n",
            "7\n"
          ]
        }
      ]
    },
    {
      "cell_type": "code",
      "source": [
        "# traverse the list- O(n)\n",
        "curr= Head\n",
        "while curr:\n",
        "  print(curr)\n",
        "  curr= curr.next"
      ],
      "metadata": {
        "id": "RRgGQ8puyOOu",
        "outputId": "81720fb5-222d-4990-b64a-82b0c51d5962",
        "colab": {
          "base_uri": "https://localhost:8080/"
        }
      },
      "execution_count": 4,
      "outputs": [
        {
          "output_type": "stream",
          "name": "stdout",
          "text": [
            "1\n",
            "3\n",
            "5\n",
            "7\n"
          ]
        }
      ]
    },
    {
      "cell_type": "code",
      "source": [
        "# display linked list- O(n)\n",
        "def display(head):\n",
        "  curr= head\n",
        "  elemets= []\n",
        "  while curr:\n",
        "    elemets.append(str(curr.val))\n",
        "    curr= curr.next\n",
        "  print('->'.join(elemets))\n",
        "display(Head)"
      ],
      "metadata": {
        "id": "cZU3Vsmhyp8n",
        "outputId": "be6437ae-7658-4b65-c854-e2168f037536",
        "colab": {
          "base_uri": "https://localhost:8080/"
        }
      },
      "execution_count": 5,
      "outputs": [
        {
          "output_type": "stream",
          "name": "stdout",
          "text": [
            "1->3->5->7\n"
          ]
        }
      ]
    },
    {
      "cell_type": "code",
      "source": [
        "# search for node value- O(n)\n",
        "def search(head, val):\n",
        "  curr= head\n",
        "  while curr:\n",
        "    if curr.val == val:\n",
        "      return True\n",
        "    curr= curr.next\n",
        "  return False\n",
        "print(search(Head, 3))\n",
        "print(search(Head, 2))"
      ],
      "metadata": {
        "id": "UYF5DjWwzXPT",
        "outputId": "eee6764c-f0c5-4558-bf5a-a1e09c26ec55",
        "colab": {
          "base_uri": "https://localhost:8080/"
        }
      },
      "execution_count": 6,
      "outputs": [
        {
          "output_type": "stream",
          "name": "stdout",
          "text": [
            "True\n",
            "False\n"
          ]
        }
      ]
    },
    {
      "cell_type": "code",
      "source": [
        "# doubly linked lists\n",
        "class DoublyNode:\n",
        "  def __init__(self, val, prev=None, next=None):\n",
        "    self.val = val\n",
        "    self.prev = prev\n",
        "    self.next = next\n",
        "  def __str__(self):\n",
        "    return str(self.val)"
      ],
      "metadata": {
        "id": "1EtVoZ7h0BWz"
      },
      "execution_count": 7,
      "outputs": []
    },
    {
      "cell_type": "code",
      "source": [
        "head= tail= DoublyNode(1)\n",
        "print(tail)"
      ],
      "metadata": {
        "id": "4sMWGhYk0QD_",
        "outputId": "4e15d6f6-02c8-46d5-8054-fc8b99df6fe5",
        "colab": {
          "base_uri": "https://localhost:8080/"
        }
      },
      "execution_count": 8,
      "outputs": [
        {
          "output_type": "stream",
          "name": "stdout",
          "text": [
            "1\n"
          ]
        }
      ]
    },
    {
      "cell_type": "code",
      "source": [
        "# display- O(n)\n",
        "def display(head):\n",
        "  curr= head\n",
        "  elemets= []\n",
        "  while curr:\n",
        "    elemets.append(str(curr.val))\n",
        "    curr= curr.next\n",
        "  print('<->'.join(elemets))\n",
        "display(head)"
      ],
      "metadata": {
        "id": "Z2aRGrv40ZIN",
        "outputId": "f8605eda-3fb7-48d0-8963-dbee3f2480cb",
        "colab": {
          "base_uri": "https://localhost:8080/"
        }
      },
      "execution_count": 9,
      "outputs": [
        {
          "output_type": "stream",
          "name": "stdout",
          "text": [
            "1\n"
          ]
        }
      ]
    },
    {
      "cell_type": "code",
      "source": [
        "# insert at begining- O(1)\n",
        "def insert_at_begining(head, val):\n",
        "  new_node= DoublyNode(val)\n",
        "  new_node.next= head\n",
        "  head.prev= new_node\n",
        "  return new_node\n",
        "head, tail= insert_at_begining(head, 2), head\n",
        "display(head)"
      ],
      "metadata": {
        "id": "PIb16zSL0m65",
        "outputId": "da8b2c46-7710-4673-ee7f-e70d047d9fca",
        "colab": {
          "base_uri": "https://localhost:8080/"
        }
      },
      "execution_count": 10,
      "outputs": [
        {
          "output_type": "stream",
          "name": "stdout",
          "text": [
            "2<->1\n"
          ]
        }
      ]
    },
    {
      "cell_type": "code",
      "source": [
        "# hashsets\n",
        "s= set()\n",
        "print(s)"
      ],
      "metadata": {
        "id": "x91nM7pX2ovY",
        "outputId": "3a2ec3c2-f1dd-4bb3-83a9-cd03d245609f",
        "colab": {
          "base_uri": "https://localhost:8080/"
        }
      },
      "execution_count": 11,
      "outputs": [
        {
          "output_type": "stream",
          "name": "stdout",
          "text": [
            "set()\n"
          ]
        }
      ]
    },
    {
      "cell_type": "code",
      "source": [
        "# add item into set- O(1)\n",
        "s.add(1)\n",
        "s.add(2)\n",
        "s.add(3)\n",
        "print(s)"
      ],
      "metadata": {
        "id": "04QFqJh7AcF5",
        "outputId": "a032a027-e426-433d-d7fb-aed36380d4c1",
        "colab": {
          "base_uri": "https://localhost:8080/"
        }
      },
      "execution_count": 12,
      "outputs": [
        {
          "output_type": "stream",
          "name": "stdout",
          "text": [
            "{1, 2, 3}\n"
          ]
        }
      ]
    },
    {
      "cell_type": "code",
      "source": [
        "# lookup if item in set- O(1)\n",
        "if 1 in s:\n",
        "  print('yes')"
      ],
      "metadata": {
        "id": "XpHtqT_tA-Xs",
        "outputId": "540ea4d2-ee33-413b-fb0f-80c3f3535b5d",
        "colab": {
          "base_uri": "https://localhost:8080/"
        }
      },
      "execution_count": 13,
      "outputs": [
        {
          "output_type": "stream",
          "name": "stdout",
          "text": [
            "yes\n"
          ]
        }
      ]
    },
    {
      "cell_type": "code",
      "source": [
        "# remove item from set- O(1)\n",
        "s.remove(3)\n",
        "print(s)"
      ],
      "metadata": {
        "id": "tLq4krIcBQn_",
        "outputId": "a080a041-1f10-42f8-9a56-f77b80da5ad2",
        "colab": {
          "base_uri": "https://localhost:8080/"
        }
      },
      "execution_count": 14,
      "outputs": [
        {
          "output_type": "stream",
          "name": "stdout",
          "text": [
            "{1, 2}\n"
          ]
        }
      ]
    },
    {
      "cell_type": "code",
      "source": [
        "# set construction- O(S)- S is the length of the string\n",
        "string= 'aaaaaaaaaaaaabbbbbbbbbbbbbbccccccccccccccxxxxxxxxxxx'\n",
        "sett= set(string)\n",
        "sett"
      ],
      "metadata": {
        "id": "InpawpDLBbkm",
        "outputId": "5b1bd903-7cf8-4ecd-ec75-4ed3d46ea5dc",
        "colab": {
          "base_uri": "https://localhost:8080/"
        }
      },
      "execution_count": 15,
      "outputs": [
        {
          "output_type": "execute_result",
          "data": {
            "text/plain": [
              "{'a', 'b', 'c', 'x'}"
            ]
          },
          "metadata": {},
          "execution_count": 15
        }
      ]
    },
    {
      "cell_type": "code",
      "source": [
        "# loop over items in set- O(n)\n",
        "for x in s:\n",
        "  print(x)"
      ],
      "metadata": {
        "id": "LYNo4iWZB_HG",
        "outputId": "ef433383-9dd0-4142-fb64-38ddff885b2c",
        "colab": {
          "base_uri": "https://localhost:8080/"
        }
      },
      "execution_count": 16,
      "outputs": [
        {
          "output_type": "stream",
          "name": "stdout",
          "text": [
            "1\n",
            "2\n"
          ]
        }
      ]
    },
    {
      "cell_type": "code",
      "source": [
        "# hashmaps- dictionaries\n",
        "d= {'greg':1, 'steve':2, 'bob':3}\n",
        "print(d)"
      ],
      "metadata": {
        "id": "OgT_aMiFCXtp",
        "outputId": "059d7496-a994-4863-9d8a-aaa374c1e21e",
        "colab": {
          "base_uri": "https://localhost:8080/"
        }
      },
      "execution_count": 17,
      "outputs": [
        {
          "output_type": "stream",
          "name": "stdout",
          "text": [
            "{'greg': 1, 'steve': 2, 'bob': 3}\n"
          ]
        }
      ]
    },
    {
      "cell_type": "code",
      "source": [
        "# add key:value in dictionary: O(1)\n",
        "d['arsh']= 4\n",
        "print(d)"
      ],
      "metadata": {
        "id": "7mMEXSmVCnq0",
        "outputId": "217f73fa-648a-464a-bd7d-7fc46b2cf3a5",
        "colab": {
          "base_uri": "https://localhost:8080/"
        }
      },
      "execution_count": 18,
      "outputs": [
        {
          "output_type": "stream",
          "name": "stdout",
          "text": [
            "{'greg': 1, 'steve': 2, 'bob': 3, 'arsh': 4}\n"
          ]
        }
      ]
    },
    {
      "cell_type": "code",
      "source": [
        "# check for presence of key in dictionary: O(1)\n",
        "if 'greg' in d:\n",
        "  print(True)"
      ],
      "metadata": {
        "id": "2BvkR4dSDHuU",
        "outputId": "309297c7-ef2a-4de8-907b-2a4e3feb7e31",
        "colab": {
          "base_uri": "https://localhost:8080/"
        }
      },
      "execution_count": 21,
      "outputs": [
        {
          "output_type": "stream",
          "name": "stdout",
          "text": [
            "True\n"
          ]
        }
      ]
    },
    {
      "cell_type": "code",
      "source": [
        "# check the value corresponding to a key in the dictionary: O(1)\n",
        "print(d['greg'])"
      ],
      "metadata": {
        "id": "a2MUiOenEcC0",
        "outputId": "a6f1fdef-8810-4833-9b01-30a2378de7ea",
        "colab": {
          "base_uri": "https://localhost:8080/"
        }
      },
      "execution_count": 23,
      "outputs": [
        {
          "output_type": "stream",
          "name": "stdout",
          "text": [
            "1\n"
          ]
        }
      ]
    },
    {
      "cell_type": "code",
      "source": [
        "# loop over the key:val pairs of the dictionary: O(n)\n",
        "for key, val in d.items():\n",
        "  print(f'key{key}: val{val}')"
      ],
      "metadata": {
        "id": "dwZTZLkeFC0Z",
        "outputId": "4bdda0e8-7a6f-4431-cdae-2129cc862d44",
        "colab": {
          "base_uri": "https://localhost:8080/"
        }
      },
      "execution_count": 24,
      "outputs": [
        {
          "output_type": "stream",
          "name": "stdout",
          "text": [
            "keygreg: val1\n",
            "keysteve: val2\n",
            "keybob: val3\n",
            "keyarsh: val4\n"
          ]
        }
      ]
    },
    {
      "cell_type": "code",
      "source": [
        "# defautldict\n",
        "from collections import defaultdict\n",
        "default= defaultdict(int)\n",
        "print(default)\n",
        "default[2]    # it will throw a kind of error, after this it will become a key value pair"
      ],
      "metadata": {
        "id": "_WW1QEWmFfXS",
        "outputId": "8555d200-fb75-466f-ce99-75b4267d8e83",
        "colab": {
          "base_uri": "https://localhost:8080/"
        }
      },
      "execution_count": 28,
      "outputs": [
        {
          "output_type": "stream",
          "name": "stdout",
          "text": [
            "defaultdict(<class 'int'>, {})\n"
          ]
        },
        {
          "output_type": "execute_result",
          "data": {
            "text/plain": [
              "0"
            ]
          },
          "metadata": {},
          "execution_count": 28
        }
      ]
    },
    {
      "cell_type": "code",
      "source": [
        "default       # now it will become and show a key value pair and it will show the default value"
      ],
      "metadata": {
        "id": "VI0kjn3VF8Ru",
        "outputId": "14fb2ff8-e267-42ad-defc-cdd160e5d53d",
        "colab": {
          "base_uri": "https://localhost:8080/"
        }
      },
      "execution_count": 29,
      "outputs": [
        {
          "output_type": "execute_result",
          "data": {
            "text/plain": [
              "defaultdict(int, {2: 0})"
            ]
          },
          "metadata": {},
          "execution_count": 29
        }
      ]
    },
    {
      "cell_type": "code",
      "source": [
        "# counter\n",
        "from collections import Counter\n",
        "string"
      ],
      "metadata": {
        "id": "H8JgjMHgGDws",
        "outputId": "04310a0a-112a-46ad-f082-237d2aa6ebd5",
        "colab": {
          "base_uri": "https://localhost:8080/",
          "height": 36
        }
      },
      "execution_count": 30,
      "outputs": [
        {
          "output_type": "execute_result",
          "data": {
            "text/plain": [
              "'aaaaaaaaaaaaabbbbbbbbbbbbbbccccccccccccccxxxxxxxxxxx'"
            ],
            "application/vnd.google.colaboratory.intrinsic+json": {
              "type": "string"
            }
          },
          "metadata": {},
          "execution_count": 30
        }
      ]
    },
    {
      "cell_type": "code",
      "source": [
        "# it will count the frequency\n",
        "counter=Counter(string)\n",
        "print(counter)"
      ],
      "metadata": {
        "id": "vwku4kA9G4kM",
        "outputId": "42073938-6423-4d95-ee78-6b2d5795ddf0",
        "colab": {
          "base_uri": "https://localhost:8080/"
        }
      },
      "execution_count": 32,
      "outputs": [
        {
          "output_type": "stream",
          "name": "stdout",
          "text": [
            "Counter({'b': 14, 'c': 14, 'a': 13, 'x': 11})\n"
          ]
        }
      ]
    },
    {
      "cell_type": "code",
      "source": [],
      "metadata": {
        "id": "BH2ZzwfzHEeh"
      },
      "execution_count": null,
      "outputs": []
    }
  ]
}