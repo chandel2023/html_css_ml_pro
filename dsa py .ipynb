{
  "nbformat": 4,
  "nbformat_minor": 0,
  "metadata": {
    "colab": {
      "provenance": [],
      "authorship_tag": "ABX9TyOa/g7XClimaNglxKBWVwNF",
      "include_colab_link": true
    },
    "kernelspec": {
      "name": "python3",
      "display_name": "Python 3"
    },
    "language_info": {
      "name": "python"
    }
  },
  "cells": [
    {
      "cell_type": "markdown",
      "metadata": {
        "id": "view-in-github",
        "colab_type": "text"
      },
      "source": [
        "<a href=\"https://colab.research.google.com/github/chandel2023/CODSOFT/blob/main/2.ipynb\" target=\"_parent\"><img src=\"https://colab.research.google.com/assets/colab-badge.svg\" alt=\"Open In Colab\"/></a>"
      ]
    },
    {
      "cell_type": "code",
      "execution_count": 1,
      "metadata": {
        "id": "KZgYjdeMDXVe"
      },
      "outputs": [],
      "source": [
        "import sys"
      ]
    },
    {
      "cell_type": "code",
      "source": [
        "L= []\n",
        "sys.getsizeof(L)"
      ],
      "metadata": {
        "colab": {
          "base_uri": "https://localhost:8080/"
        },
        "id": "HT07qsK7Di9_",
        "outputId": "7cb73d22-3b14-4357-b587-d77b1dee915f"
      },
      "execution_count": 2,
      "outputs": [
        {
          "output_type": "execute_result",
          "data": {
            "text/plain": [
              "56"
            ]
          },
          "metadata": {},
          "execution_count": 2
        }
      ]
    },
    {
      "cell_type": "code",
      "source": [
        "L.append(1)"
      ],
      "metadata": {
        "id": "VAvlOJnFDjEu"
      },
      "execution_count": 3,
      "outputs": []
    },
    {
      "cell_type": "code",
      "source": [
        "L"
      ],
      "metadata": {
        "colab": {
          "base_uri": "https://localhost:8080/"
        },
        "id": "QLCFmZyeDjMC",
        "outputId": "7c4b3a30-937a-4309-9b83-b45c4f89abfb"
      },
      "execution_count": 4,
      "outputs": [
        {
          "output_type": "execute_result",
          "data": {
            "text/plain": [
              "[1]"
            ]
          },
          "metadata": {},
          "execution_count": 4
        }
      ]
    },
    {
      "cell_type": "code",
      "source": [
        "sys.getsizeof(L)"
      ],
      "metadata": {
        "colab": {
          "base_uri": "https://localhost:8080/"
        },
        "id": "cXl_R4W-D98p",
        "outputId": "5319c2db-3fd0-4038-e029-4439e15824bc"
      },
      "execution_count": 5,
      "outputs": [
        {
          "output_type": "execute_result",
          "data": {
            "text/plain": [
              "88"
            ]
          },
          "metadata": {},
          "execution_count": 5
        }
      ]
    },
    {
      "cell_type": "code",
      "source": [
        "import sys\n"
      ],
      "metadata": {
        "id": "8LuC1Me-D-Az"
      },
      "execution_count": 6,
      "outputs": []
    },
    {
      "cell_type": "code",
      "source": [
        "L= []\n",
        "\n",
        "for i in range(10):\n",
        "  print(i, sys.getsizeof(L))\n",
        "  L.append(i)\n"
      ],
      "metadata": {
        "id": "YKCZhQXRD-EN",
        "outputId": "8eaad811-e626-48f1-959b-9bce783c305e",
        "colab": {
          "base_uri": "https://localhost:8080/"
        }
      },
      "execution_count": 7,
      "outputs": [
        {
          "output_type": "stream",
          "name": "stdout",
          "text": [
            "0 56\n",
            "1 88\n",
            "2 88\n",
            "3 88\n",
            "4 88\n",
            "5 120\n",
            "6 120\n",
            "7 120\n",
            "8 120\n",
            "9 184\n"
          ]
        }
      ]
    },
    {
      "cell_type": "code",
      "source": [
        "import ctypes"
      ],
      "metadata": {
        "id": "gqv5cr8ID-H9"
      },
      "execution_count": 8,
      "outputs": []
    },
    {
      "cell_type": "code",
      "source": [
        "# create list\n",
        "class MyList:\n",
        "  def __init__(self):\n",
        "    self.size=1\n",
        "    self.n=0\n",
        "    # create a c type array with size = self.size\n",
        "    self.A=self.__make_array(self.size)\n",
        "\n",
        "  def __len__(self):\n",
        "    return self.n\n",
        "\n",
        "    # print list\n",
        "  def __str__(self):\n",
        "    result = ''\n",
        "    for i in range(self.n):\n",
        "      result = result + str(self.A[i]) + ','\n",
        "    return '[' + result[:-1] + ']'\n",
        "\n",
        "    #indexing list\n",
        "\n",
        "  def __getitem__(self,index):\n",
        "    if 0<=index<self.n:\n",
        "      return self.A[index]\n",
        "    else:\n",
        "      return 'IndexNahiHai: Index out of range'\n",
        "\n",
        "  #del\n",
        "  def __delitem__(self,pos):\n",
        "    # delete\n",
        "    for i in range(pos,self.n-1):\n",
        "      self.A[i]=self.A[i+1]\n",
        "    self.n -=1\n",
        "\n",
        "\n",
        "  def append(self,item):\n",
        "    if self.n == self.size:\n",
        "      # resize\n",
        "      self.__resize(self.size*2)\n",
        "    # append list\n",
        "    self.A[self.n]=item\n",
        "    self.n +=1\n",
        "\n",
        "    #pop list\n",
        "    #we will directly decrease the index no. by 1 thus last element will\n",
        "    #be ignored automatically and hence poped out\n",
        "\n",
        "  def pop(self):\n",
        "    if self.n == 0:\n",
        "      return 'List is empty no element to pop'\n",
        "    print(self.A[self.n-1])\n",
        "    self.n -=1\n",
        "\n",
        "    #clear list\n",
        "\n",
        "  def clear(self):\n",
        "    self.n=0\n",
        "    self.size=1\n",
        "\n",
        "    #find list\n",
        "\n",
        "  def find(self,item):\n",
        "\n",
        "    for i in range(self.n):\n",
        "      if self.A[i] == item:\n",
        "        return i\n",
        "\n",
        "    return 'Value not present'\n",
        "\n",
        "  #insert list\n",
        "\n",
        "  def insert(self,pos,item):\n",
        "    if self.n == self.size:\n",
        "      self.__resize(self.size*2)\n",
        "\n",
        "    for i in range (self.n,pos,-1):\n",
        "      self.A[i+1]=self.A[i]\n",
        "    self.A[pos]=item\n",
        "    self.n +=1\n",
        "\n",
        "  #remove list\n",
        "\n",
        "  def remove(self,item):\n",
        "    pos = self.find(item)\n",
        "\n",
        "  def __resize(self,new_capacity):\n",
        "    # create a new array with new capacaity\n",
        "    B = self.__make_array(new_capacity)\n",
        "    self.size = new_capacity\n",
        "    # copy the content of A to B\n",
        "    for i in range(self.n):\n",
        "      B[i] = self.A[i]\n",
        "    # reassign\n",
        "    self.A = B\n",
        "\n",
        "  def __make_array(self, capacity):\n",
        "    #creates a c type array(static, referential) with size capacity\n",
        "    return (capacity * ctypes.py_object)()\n",
        "\n",
        "  def __len__(self):\n",
        "    return self.n"
      ],
      "metadata": {
        "id": "R0xAiAhoD-LY"
      },
      "execution_count": 9,
      "outputs": []
    },
    {
      "cell_type": "code",
      "source": [
        "L= MyList()"
      ],
      "metadata": {
        "id": "F0Er-_TdD-Th"
      },
      "execution_count": 10,
      "outputs": []
    },
    {
      "cell_type": "code",
      "source": [
        "type(L)"
      ],
      "metadata": {
        "id": "YviJkVniD-W1",
        "outputId": "158941e4-65cb-4ada-f5b0-11875751e257",
        "colab": {
          "base_uri": "https://localhost:8080/",
          "height": 103
        }
      },
      "execution_count": 11,
      "outputs": [
        {
          "output_type": "execute_result",
          "data": {
            "text/plain": [
              "__main__.MyList"
            ],
            "text/html": [
              "<div style=\"max-width:800px; border: 1px solid var(--colab-border-color);\"><style>\n",
              "      pre.function-repr-contents {\n",
              "        overflow-x: auto;\n",
              "        padding: 8px 12px;\n",
              "        max-height: 500px;\n",
              "      }\n",
              "\n",
              "      pre.function-repr-contents.function-repr-contents-collapsed {\n",
              "        cursor: pointer;\n",
              "        max-height: 100px;\n",
              "      }\n",
              "    </style>\n",
              "    <pre style=\"white-space: initial; background:\n",
              "         var(--colab-secondary-surface-color); padding: 8px 12px;\n",
              "         border-bottom: 1px solid var(--colab-border-color);\"><b>MyList</b><br/>def __init__()</pre><pre class=\"function-repr-contents function-repr-contents-collapsed\" style=\"\"><a class=\"filepath\" style=\"display:none\" href=\"#\"></a>&lt;no docstring&gt;</pre></div>"
            ]
          },
          "metadata": {},
          "execution_count": 11
        }
      ]
    },
    {
      "cell_type": "code",
      "source": [
        "print(L)"
      ],
      "metadata": {
        "id": "7Oyh93LdH8V8",
        "outputId": "5aeb0ab7-1927-4e94-8b4d-718351ac2050",
        "colab": {
          "base_uri": "https://localhost:8080/"
        }
      },
      "execution_count": 12,
      "outputs": [
        {
          "output_type": "stream",
          "name": "stdout",
          "text": [
            "[]\n"
          ]
        }
      ]
    },
    {
      "cell_type": "code",
      "source": [
        "# len\n",
        "L = [10,20,30,40]\n",
        "len(L)"
      ],
      "metadata": {
        "id": "ORKM0k3YH8Ye",
        "outputId": "3bc20c6c-c009-41d2-896e-be184e09ead1",
        "colab": {
          "base_uri": "https://localhost:8080/"
        }
      },
      "execution_count": 13,
      "outputs": [
        {
          "output_type": "execute_result",
          "data": {
            "text/plain": [
              "4"
            ]
          },
          "metadata": {},
          "execution_count": 13
        }
      ]
    },
    {
      "cell_type": "code",
      "source": [
        "L.append('namaste')"
      ],
      "metadata": {
        "id": "_jXiijk-H8bM"
      },
      "execution_count": 14,
      "outputs": []
    },
    {
      "cell_type": "code",
      "source": [
        "L"
      ],
      "metadata": {
        "id": "XB6AzWJPH8ed",
        "outputId": "fb3bc18d-7118-445a-c476-2cd7e69ddf14",
        "colab": {
          "base_uri": "https://localhost:8080/"
        }
      },
      "execution_count": 15,
      "outputs": [
        {
          "output_type": "execute_result",
          "data": {
            "text/plain": [
              "[10, 20, 30, 40, 'namaste']"
            ]
          },
          "metadata": {},
          "execution_count": 15
        }
      ]
    },
    {
      "cell_type": "code",
      "source": [
        "L.append('hiii')\n",
        "L.append('helllo')\n",
        "L.append('bye')\n",
        "L.append(3.4)"
      ],
      "metadata": {
        "id": "8y2hvFoQH8hh"
      },
      "execution_count": 16,
      "outputs": []
    },
    {
      "cell_type": "code",
      "source": [
        "del L[3]"
      ],
      "metadata": {
        "id": "B7A_7w45X24f"
      },
      "execution_count": 17,
      "outputs": []
    },
    {
      "cell_type": "code",
      "source": [
        "print(L)"
      ],
      "metadata": {
        "id": "-_BcwmfCX7MN",
        "outputId": "14d2dc28-3c2d-4139-949c-170b15006ecb",
        "colab": {
          "base_uri": "https://localhost:8080/"
        }
      },
      "execution_count": 18,
      "outputs": [
        {
          "output_type": "stream",
          "name": "stdout",
          "text": [
            "[10, 20, 30, 'namaste', 'hiii', 'helllo', 'bye', 3.4]\n"
          ]
        }
      ]
    },
    {
      "cell_type": "code",
      "source": [
        "L.insert(1,1)\n",
        "L"
      ],
      "metadata": {
        "id": "TFS6ECZwWPCz",
        "outputId": "7944413d-8fca-4dec-d5b8-0b1a6ad7482e",
        "colab": {
          "base_uri": "https://localhost:8080/"
        }
      },
      "execution_count": 19,
      "outputs": [
        {
          "output_type": "execute_result",
          "data": {
            "text/plain": [
              "[10, 1, 20, 30, 'namaste', 'hiii', 'helllo', 'bye', 3.4]"
            ]
          },
          "metadata": {},
          "execution_count": 19
        }
      ]
    },
    {
      "cell_type": "code",
      "source": [
        "index= L.index(3.4)\n",
        "print(index)"
      ],
      "metadata": {
        "id": "CMqQ-UBXLtaZ",
        "outputId": "e04f739f-55e8-41e1-d3e9-2eecfb371122",
        "colab": {
          "base_uri": "https://localhost:8080/"
        }
      },
      "execution_count": 20,
      "outputs": [
        {
          "output_type": "stream",
          "name": "stdout",
          "text": [
            "8\n"
          ]
        }
      ]
    },
    {
      "cell_type": "code",
      "source": [
        "''' run the above cell again and again and this cell running shows  the\n",
        "increase in length '''\n",
        "len(L)"
      ],
      "metadata": {
        "id": "TmrarB1EH8ka",
        "outputId": "09c5995c-f2cc-4d1d-aafc-6a890c95687c",
        "colab": {
          "base_uri": "https://localhost:8080/"
        }
      },
      "execution_count": 21,
      "outputs": [
        {
          "output_type": "execute_result",
          "data": {
            "text/plain": [
              "9"
            ]
          },
          "metadata": {},
          "execution_count": 21
        }
      ]
    },
    {
      "cell_type": "code",
      "source": [
        "L[2]"
      ],
      "metadata": {
        "id": "kKKywMZxVHpc",
        "outputId": "2c538a93-6c06-4df7-d757-12176a25a4cb",
        "colab": {
          "base_uri": "https://localhost:8080/"
        }
      },
      "execution_count": 22,
      "outputs": [
        {
          "output_type": "execute_result",
          "data": {
            "text/plain": [
              "20"
            ]
          },
          "metadata": {},
          "execution_count": 22
        }
      ]
    },
    {
      "cell_type": "code",
      "source": [
        "L.append('append kar')"
      ],
      "metadata": {
        "id": "J2Pf5-kvH8oC"
      },
      "execution_count": 23,
      "outputs": []
    },
    {
      "cell_type": "code",
      "source": [
        "print(L)"
      ],
      "metadata": {
        "id": "HyTL-RybUxrt",
        "outputId": "8567737a-6520-4d26-ac17-158f972b5852",
        "colab": {
          "base_uri": "https://localhost:8080/"
        }
      },
      "execution_count": 24,
      "outputs": [
        {
          "output_type": "stream",
          "name": "stdout",
          "text": [
            "[10, 1, 20, 30, 'namaste', 'hiii', 'helllo', 'bye', 3.4, 'append kar']\n"
          ]
        }
      ]
    },
    {
      "cell_type": "code",
      "source": [
        "L = [100,200,300,'hi','hello','bi']"
      ],
      "metadata": {
        "id": "obFZrcP_Ux7I"
      },
      "execution_count": 25,
      "outputs": []
    },
    {
      "cell_type": "code",
      "source": [
        "# run this cell again and again and elements will be popping out continuosusly\n",
        "L.pop()"
      ],
      "metadata": {
        "id": "pxXN7fx5Ux-f",
        "outputId": "b9e63962-6105-4352-dcaf-44ff7ab40f96",
        "colab": {
          "base_uri": "https://localhost:8080/",
          "height": 36
        }
      },
      "execution_count": 26,
      "outputs": [
        {
          "output_type": "execute_result",
          "data": {
            "text/plain": [
              "'bi'"
            ],
            "application/vnd.google.colaboratory.intrinsic+json": {
              "type": "string"
            }
          },
          "metadata": {},
          "execution_count": 26
        }
      ]
    },
    {
      "cell_type": "code",
      "source": [
        "L.clear()"
      ],
      "metadata": {
        "id": "so3M_yUqUyDv"
      },
      "execution_count": 27,
      "outputs": []
    },
    {
      "cell_type": "code",
      "source": [
        "print(L)"
      ],
      "metadata": {
        "id": "J_Z_bSUfUyLq",
        "outputId": "ca79c5ee-fce7-4120-b79a-eb365b4204d2",
        "colab": {
          "base_uri": "https://localhost:8080/"
        }
      },
      "execution_count": 28,
      "outputs": [
        {
          "output_type": "stream",
          "name": "stdout",
          "text": [
            "[]\n"
          ]
        }
      ]
    },
    {
      "cell_type": "code",
      "source": [
        "L=[39,43,57,61]"
      ],
      "metadata": {
        "id": "Tc-5DtEJKHq0"
      },
      "execution_count": 29,
      "outputs": []
    },
    {
      "cell_type": "code",
      "source": [
        "L.insert(2,99)\n",
        "L"
      ],
      "metadata": {
        "id": "MHZxP1KdKHxp",
        "outputId": "d36ad503-2aa6-4015-fc87-59122a0589b1",
        "colab": {
          "base_uri": "https://localhost:8080/"
        }
      },
      "execution_count": 30,
      "outputs": [
        {
          "output_type": "execute_result",
          "data": {
            "text/plain": [
              "[39, 43, 99, 57, 61]"
            ]
          },
          "metadata": {},
          "execution_count": 30
        }
      ]
    }
  ]
}
