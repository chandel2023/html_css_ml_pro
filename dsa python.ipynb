{
  "nbformat": 4,
  "nbformat_minor": 0,
  "metadata": {
    "colab": {
      "provenance": [],
      "authorship_tag": "ABX9TyNH+GPcOrzW1QmONxSxvarY",
      "include_colab_link": true
    },
    "kernelspec": {
      "name": "python3",
      "display_name": "Python 3"
    },
    "language_info": {
      "name": "python"
    }
  },
  "cells": [
    {
      "cell_type": "markdown",
      "metadata": {
        "id": "view-in-github",
        "colab_type": "text"
      },
      "source": [
        "<a href=\"https://colab.research.google.com/github/chandel2023/html_css_ml_pro/blob/main/dsa%20python.ipynb\" target=\"_parent\"><img src=\"https://colab.research.google.com/assets/colab-badge.svg\" alt=\"Open In Colab\"/></a>"
      ]
    },
    {
      "cell_type": "code",
      "execution_count": null,
      "metadata": {
        "colab": {
          "base_uri": "https://localhost:8080/"
        },
        "id": "Wyu47Xcawbaa",
        "outputId": "560edf4c-d0b9-4cf7-8a9f-07ee4e9a6753"
      },
      "outputs": [
        {
          "output_type": "stream",
          "name": "stdout",
          "text": [
            "dsa py\n"
          ]
        }
      ],
      "source": [
        "print('dsa py')"
      ]
    },
    {
      "cell_type": "code",
      "source": [
        "# singly linked lists\n",
        "class SinglyNode:\n",
        "  def __init__(self, val, next=None):\n",
        "    self.val = val\n",
        "    self.next = next\n",
        "  def __str__(self):\n",
        "    return str(self.val)"
      ],
      "metadata": {
        "id": "oIIicgEKwfeb"
      },
      "execution_count": 1,
      "outputs": []
    },
    {
      "cell_type": "code",
      "source": [
        "Head = SinglyNode(1)\n",
        "A= SinglyNode(3)\n",
        "B= SinglyNode(5)\n",
        "C= SinglyNode(7)\n",
        "Head.next = A\n",
        "A.next = B\n",
        "B.next = C\n",
        "print(Head)\n",
        "print(Head.next)\n",
        "print(Head.next.next)\n",
        "print(Head.next.next.next)"
      ],
      "metadata": {
        "id": "QdVLLEu0xmnB",
        "outputId": "d8b2aa83-9850-43e7-badd-1be12204c349",
        "colab": {
          "base_uri": "https://localhost:8080/"
        }
      },
      "execution_count": 10,
      "outputs": [
        {
          "output_type": "stream",
          "name": "stdout",
          "text": [
            "1\n",
            "3\n",
            "5\n",
            "7\n"
          ]
        }
      ]
    },
    {
      "cell_type": "code",
      "source": [
        "# traverse the list- O(n)\n",
        "curr= Head\n",
        "while curr:\n",
        "  print(curr)\n",
        "  curr= curr.next"
      ],
      "metadata": {
        "id": "RRgGQ8puyOOu",
        "outputId": "8e91a46f-2f04-4cbc-9a34-9cbc202d2b44",
        "colab": {
          "base_uri": "https://localhost:8080/"
        }
      },
      "execution_count": 11,
      "outputs": [
        {
          "output_type": "stream",
          "name": "stdout",
          "text": [
            "1\n",
            "3\n",
            "5\n",
            "7\n"
          ]
        }
      ]
    },
    {
      "cell_type": "code",
      "source": [
        "# display linked list- O(n)\n",
        "def display(head):\n",
        "  curr= head\n",
        "  elemets= []\n",
        "  while curr:\n",
        "    elemets.append(str(curr.val))\n",
        "    curr= curr.next\n",
        "  print('->'.join(elemets))\n",
        "display(Head)"
      ],
      "metadata": {
        "id": "cZU3Vsmhyp8n",
        "outputId": "31f3b85e-1335-4231-a4eb-01cf4642ea5f",
        "colab": {
          "base_uri": "https://localhost:8080/"
        }
      },
      "execution_count": 12,
      "outputs": [
        {
          "output_type": "stream",
          "name": "stdout",
          "text": [
            "1->3->5->7\n"
          ]
        }
      ]
    },
    {
      "cell_type": "code",
      "source": [
        "# search for node value- O(n)\n",
        "def search(head, val):\n",
        "  curr= head\n",
        "  while curr:\n",
        "    if curr.val == val:\n",
        "      return True\n",
        "    curr= curr.next\n",
        "  return False\n",
        "print(search(Head, 3))\n",
        "print(search(Head, 2))"
      ],
      "metadata": {
        "id": "UYF5DjWwzXPT",
        "outputId": "b21e269a-430b-4ece-c787-ed07ba0dffbd",
        "colab": {
          "base_uri": "https://localhost:8080/"
        }
      },
      "execution_count": 14,
      "outputs": [
        {
          "output_type": "stream",
          "name": "stdout",
          "text": [
            "True\n",
            "False\n"
          ]
        }
      ]
    },
    {
      "cell_type": "code",
      "source": [
        "# doubly linked lists\n",
        "class DoublyNode:\n",
        "  def __init__(self, val, prev=None, next=None):\n",
        "    self.val = val\n",
        "    self.prev = prev\n",
        "    self.next = next\n",
        "  def __str__(self):\n",
        "    return str(self.val)"
      ],
      "metadata": {
        "id": "1EtVoZ7h0BWz"
      },
      "execution_count": 15,
      "outputs": []
    },
    {
      "cell_type": "code",
      "source": [
        "head= tail= DoublyNode(1)\n",
        "print(tail)"
      ],
      "metadata": {
        "id": "4sMWGhYk0QD_",
        "outputId": "a984a518-3097-4d3e-f88b-ba8281c1948b",
        "colab": {
          "base_uri": "https://localhost:8080/"
        }
      },
      "execution_count": 16,
      "outputs": [
        {
          "output_type": "stream",
          "name": "stdout",
          "text": [
            "1\n"
          ]
        }
      ]
    },
    {
      "cell_type": "code",
      "source": [
        "# display- O(n)\n",
        "def display(head):\n",
        "  curr= head\n",
        "  elemets= []\n",
        "  while curr:\n",
        "    elemets.append(str(curr.val))\n",
        "    curr= curr.next\n",
        "  print('<->'.join(elemets))\n",
        "display(head)"
      ],
      "metadata": {
        "id": "Z2aRGrv40ZIN",
        "outputId": "50d9fc7f-81b2-4752-cd12-5751d317f6c1",
        "colab": {
          "base_uri": "https://localhost:8080/"
        }
      },
      "execution_count": 17,
      "outputs": [
        {
          "output_type": "stream",
          "name": "stdout",
          "text": [
            "1\n"
          ]
        }
      ]
    },
    {
      "cell_type": "code",
      "source": [
        "# insert at begining- O(1)\n",
        "def insert_at_begining(head, val):\n",
        "  new_node= DoublyNode(val)\n",
        "  new_node.next= head\n",
        "  head.prev= new_node\n",
        "  return new_node\n",
        "head, tail= insert_at_begining(head, 2), head\n",
        "display(head)"
      ],
      "metadata": {
        "id": "PIb16zSL0m65",
        "outputId": "f3d0f521-c0ce-485d-c20c-a63777a731bf",
        "colab": {
          "base_uri": "https://localhost:8080/"
        }
      },
      "execution_count": 18,
      "outputs": [
        {
          "output_type": "stream",
          "name": "stdout",
          "text": [
            "2<->1\n"
          ]
        }
      ]
    },
    {
      "cell_type": "code",
      "source": [
        "# hashsets\n",
        "s= set()\n",
        "print(s)"
      ],
      "metadata": {
        "id": "x91nM7pX2ovY",
        "outputId": "db979766-aaf2-4501-d2d8-4afe0ef3f89b",
        "colab": {
          "base_uri": "https://localhost:8080/"
        }
      },
      "execution_count": 19,
      "outputs": [
        {
          "output_type": "stream",
          "name": "stdout",
          "text": [
            "set()\n"
          ]
        }
      ]
    },
    {
      "cell_type": "code",
      "source": [
        "# add item into set- O(1)\n",
        "s.add(1)\n",
        "s.add(2)\n",
        "s.add(3)\n",
        "print(s)"
      ],
      "metadata": {
        "id": "04QFqJh7AcF5",
        "outputId": "0eecf6d7-546c-48a5-ddf5-593dc8e57452",
        "colab": {
          "base_uri": "https://localhost:8080/"
        }
      },
      "execution_count": 20,
      "outputs": [
        {
          "output_type": "stream",
          "name": "stdout",
          "text": [
            "{1, 2, 3}\n"
          ]
        }
      ]
    },
    {
      "cell_type": "code",
      "source": [
        "# lookup if item in set- O(1)\n",
        "if 1 in s:\n",
        "  print('yes')"
      ],
      "metadata": {
        "id": "XpHtqT_tA-Xs",
        "outputId": "3e78b63a-57a7-4f01-902b-339e4a92f36c",
        "colab": {
          "base_uri": "https://localhost:8080/"
        }
      },
      "execution_count": 21,
      "outputs": [
        {
          "output_type": "stream",
          "name": "stdout",
          "text": [
            "yes\n"
          ]
        }
      ]
    },
    {
      "cell_type": "code",
      "source": [
        "# remove item from set- O(1)\n",
        "s.remove(3)\n",
        "print(s)"
      ],
      "metadata": {
        "id": "tLq4krIcBQn_",
        "outputId": "a6552a9e-9601-4d35-af3f-dab65080628c",
        "colab": {
          "base_uri": "https://localhost:8080/"
        }
      },
      "execution_count": 24,
      "outputs": [
        {
          "output_type": "stream",
          "name": "stdout",
          "text": [
            "{1, 2}\n"
          ]
        }
      ]
    },
    {
      "cell_type": "code",
      "source": [
        "# set construction- O(S)- S is the length of the string\n",
        "string= 'aaaaaaaaaaaaabbbbbbbbbbbbbbccccccccccccccxxxxxxxxxxx'\n",
        "sett= set(string)\n",
        "sett"
      ],
      "metadata": {
        "id": "InpawpDLBbkm",
        "outputId": "c6aaf8ba-f1f4-48d5-9461-58f9c198bc5c",
        "colab": {
          "base_uri": "https://localhost:8080/"
        }
      },
      "execution_count": 26,
      "outputs": [
        {
          "output_type": "execute_result",
          "data": {
            "text/plain": [
              "{'a', 'b', 'c', 'x'}"
            ]
          },
          "metadata": {},
          "execution_count": 26
        }
      ]
    },
    {
      "cell_type": "code",
      "source": [
        "# loop over items in set- O(n)\n",
        "for x in s:\n",
        "  print(x)"
      ],
      "metadata": {
        "id": "LYNo4iWZB_HG",
        "outputId": "6d88df65-d29d-4ce4-c17b-fc91f4c99e37",
        "colab": {
          "base_uri": "https://localhost:8080/"
        }
      },
      "execution_count": 27,
      "outputs": [
        {
          "output_type": "stream",
          "name": "stdout",
          "text": [
            "1\n",
            "2\n"
          ]
        }
      ]
    },
    {
      "cell_type": "code",
      "source": [
        "# hashmaps- dictionaries\n",
        "d= {'greg':1, 'steve':2, 'bob':3}\n",
        "print(d)"
      ],
      "metadata": {
        "id": "OgT_aMiFCXtp",
        "outputId": "9406d75e-85db-4641-fd3b-0d029b04baa4",
        "colab": {
          "base_uri": "https://localhost:8080/"
        }
      },
      "execution_count": 28,
      "outputs": [
        {
          "output_type": "stream",
          "name": "stdout",
          "text": [
            "{'greg': 1, 'steve': 2, 'bob': 3}\n"
          ]
        }
      ]
    },
    {
      "cell_type": "code",
      "source": [
        "# add key:value in dictionary: O(1)\n",
        "d['arsh']= 4\n",
        "print(d)"
      ],
      "metadata": {
        "id": "7mMEXSmVCnq0"
      },
      "execution_count": null,
      "outputs": []
    },
    {
      "cell_type": "code",
      "source": [
        "# check for presence of key in dictionary: O(1)\n",
        "if 'greg' in d:\n",
        "  print(true)"
      ],
      "metadata": {
        "id": "2BvkR4dSDHuU"
      },
      "execution_count": null,
      "outputs": []
    }
  ]
}