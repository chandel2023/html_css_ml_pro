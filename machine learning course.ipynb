{
  "cells": [
    {
      "cell_type": "markdown",
      "metadata": {
        "id": "view-in-github",
        "colab_type": "text"
      },
      "source": [
        "<a href=\"https://colab.research.google.com/github/chandel2023/CODSOFT/blob/main/machine%20learning%20course.ipynb\" target=\"_parent\"><img src=\"https://colab.research.google.com/assets/colab-badge.svg\" alt=\"Open In Colab\"/></a>"
      ]
    },
    {
      "cell_type": "code",
      "source": [
        "print('namaste')"
      ],
      "metadata": {
        "id": "YJ_qwd8rsibv"
      },
      "execution_count": null,
      "outputs": []
    },
    {
      "cell_type": "code",
      "source": [
        "import numpy as np\n",
        "import pandas as pd"
      ],
      "metadata": {
        "id": "CgBfx7hZug-8"
      },
      "execution_count": null,
      "outputs": []
    },
    {
      "cell_type": "code",
      "source": [
        "dataset= pd.read_csv('Gujrat.csv')"
      ],
      "metadata": {
        "id": "IUgH6NXruqvw"
      },
      "execution_count": null,
      "outputs": []
    },
    {
      "cell_type": "code",
      "source": [
        "dataset"
      ],
      "metadata": {
        "id": "dvXNb8eMu80F"
      },
      "execution_count": null,
      "outputs": []
    },
    {
      "cell_type": "code",
      "source": [
        "x=dataset[['All India', 'Gujarat']]"
      ],
      "metadata": {
        "id": "i4qVfwtYvHGa"
      },
      "execution_count": null,
      "outputs": []
    },
    {
      "cell_type": "code",
      "source": [
        "x"
      ],
      "metadata": {
        "id": "ZOYV4m38vYXl"
      },
      "execution_count": null,
      "outputs": []
    },
    {
      "cell_type": "code",
      "source": [
        "x=dataset[['All India','Gujarat']].values"
      ],
      "metadata": {
        "id": "vvDkBARtv7Vm"
      },
      "execution_count": null,
      "outputs": []
    },
    {
      "cell_type": "code",
      "source": [
        "x"
      ],
      "metadata": {
        "id": "wc06SqpDv-Ri"
      },
      "execution_count": null,
      "outputs": []
    },
    {
      "cell_type": "code",
      "source": [
        "y=dataset[['Source']].values"
      ],
      "metadata": {
        "id": "ZXx9saxVvZIh"
      },
      "execution_count": null,
      "outputs": []
    },
    {
      "cell_type": "code",
      "source": [
        "y"
      ],
      "metadata": {
        "id": "fUJW3dO5wGGA"
      },
      "execution_count": null,
      "outputs": []
    },
    {
      "cell_type": "code",
      "source": [
        "from sklearn.impute import SimpleImputer"
      ],
      "metadata": {
        "id": "s7oqQW9qwG-E"
      },
      "execution_count": null,
      "outputs": []
    },
    {
      "cell_type": "code",
      "source": [
        "imputer= SimpleImputer(missing_values=np.nan, strategy='mean')   #it will handle the missing values having nan"
      ],
      "metadata": {
        "id": "KP_GA8wUwUIz"
      },
      "execution_count": null,
      "outputs": []
    },
    {
      "cell_type": "code",
      "source": [
        "#imputer=imputer.fit(x[:,4:6])   #it will include the columns of x since 4 is included but 6 is not so will take indices- 4 and 5"
      ],
      "metadata": {
        "id": "Q0-8ibZ3wj3K"
      },
      "execution_count": null,
      "outputs": []
    },
    {
      "cell_type": "code",
      "source": [
        "#x[:,4:6]=imputer.fit_transform(x[:,4:6])   #it will replace all the mean values by the mean of the column data"
      ],
      "metadata": {
        "id": "5p0SEEWmwtmI"
      },
      "execution_count": null,
      "outputs": []
    },
    {
      "cell_type": "code",
      "source": [
        "x"
      ],
      "metadata": {
        "id": "pdYUit_O0SVA"
      },
      "execution_count": null,
      "outputs": []
    },
    {
      "cell_type": "code",
      "source": [
        "#we have to change all the columns into numeric columns so that the operations can be performed"
      ],
      "metadata": {
        "id": "Bare8wFZ0cr5"
      },
      "execution_count": null,
      "outputs": []
    },
    {
      "cell_type": "code",
      "source": [
        "from sklearn.preprocessing import LabelEncoder"
      ],
      "metadata": {
        "id": "pCIubbWY1YES"
      },
      "execution_count": null,
      "outputs": []
    },
    {
      "cell_type": "code",
      "source": [
        "label_encoder_x=LabelEncoder()"
      ],
      "metadata": {
        "id": "klhVmCPR1hrz"
      },
      "execution_count": null,
      "outputs": []
    },
    {
      "cell_type": "code",
      "source": [
        "x[:,1]=label_encoder_x.fit_transform(x[:,1])"
      ],
      "metadata": {
        "id": "lgk1zJhC1kr4"
      },
      "execution_count": null,
      "outputs": []
    },
    {
      "cell_type": "code",
      "source": [
        "x"
      ],
      "metadata": {
        "id": "XTSjPFRt15Re"
      },
      "execution_count": null,
      "outputs": []
    },
    {
      "cell_type": "code",
      "source": [
        "# there can be some correlation between the numbers assigned for numerical data, like greater or smaller etc., to prevent this we have to do a dummy encoding having only 0,1"
      ],
      "metadata": {
        "id": "NQMM2zkQ2Y-u"
      },
      "execution_count": null,
      "outputs": []
    },
    {
      "cell_type": "code",
      "source": [
        "from sklearn.preprocessing import OneHotEncoder"
      ],
      "metadata": {
        "id": "wuyNaguS3CJg"
      },
      "execution_count": null,
      "outputs": []
    },
    {
      "cell_type": "code",
      "source": [
        "onehotencoder=OneHotEncoder()"
      ],
      "metadata": {
        "id": "y7Dul0J_LFmk"
      },
      "execution_count": null,
      "outputs": []
    },
    {
      "cell_type": "code",
      "source": [
        "x=onehotencoder.fit_transform(dataset.Gujarat.values.reshape(-1,1)).toarray()"
      ],
      "metadata": {
        "id": "2pmC6qqRLMKI"
      },
      "execution_count": null,
      "outputs": []
    },
    {
      "cell_type": "code",
      "source": [
        "x"
      ],
      "metadata": {
        "id": "-chiUMhKLukm"
      },
      "execution_count": null,
      "outputs": []
    },
    {
      "cell_type": "code",
      "source": [
        "labelencoder_y=LabelEncoder()"
      ],
      "metadata": {
        "id": "y31q7jJ-NRPL"
      },
      "execution_count": null,
      "outputs": []
    },
    {
      "cell_type": "code",
      "source": [
        "y=labelencoder_y.fit_transform(y)"
      ],
      "metadata": {
        "id": "bRKHhh-7NpCp"
      },
      "execution_count": null,
      "outputs": []
    },
    {
      "cell_type": "code",
      "source": [
        "y"
      ],
      "metadata": {
        "id": "8-BY5uEAOCNz"
      },
      "execution_count": null,
      "outputs": []
    },
    {
      "cell_type": "code",
      "source": [
        "from sklearn.model_selection import train_test_split"
      ],
      "metadata": {
        "id": "uAo3g81MOOS_"
      },
      "execution_count": null,
      "outputs": []
    },
    {
      "cell_type": "code",
      "source": [
        "x_train,x_test,y_train,y_test=train_test_split(x,y,test_size=0.2,random_state=0)   # means 20% data will be tested and 80% data will be trained"
      ],
      "metadata": {
        "id": "RqYmffClOdD5"
      },
      "execution_count": null,
      "outputs": []
    },
    {
      "cell_type": "code",
      "source": [
        "x_train"
      ],
      "metadata": {
        "id": "hqcxvqMsOxDK"
      },
      "execution_count": null,
      "outputs": []
    },
    {
      "cell_type": "code",
      "source": [
        "x_test"
      ],
      "metadata": {
        "id": "OwGFcct2O_AN"
      },
      "execution_count": null,
      "outputs": []
    },
    {
      "cell_type": "code",
      "source": [
        "y_train"
      ],
      "metadata": {
        "id": "pSaqM5ZBPAP0"
      },
      "execution_count": null,
      "outputs": []
    },
    {
      "cell_type": "code",
      "source": [
        "y_test"
      ],
      "metadata": {
        "id": "xDrrKvZYPCu6"
      },
      "execution_count": null,
      "outputs": []
    },
    {
      "cell_type": "code",
      "source": [
        "#there may be some data which varies too high, so to puth them on a same scale...\n",
        "from sklearn.preprocessing import StandardScaler"
      ],
      "metadata": {
        "id": "GaJz0GiOPDz3"
      },
      "execution_count": null,
      "outputs": []
    },
    {
      "cell_type": "code",
      "source": [
        "sc_x=StandardScaler()"
      ],
      "metadata": {
        "id": "EzeMXbbKPhpY"
      },
      "execution_count": null,
      "outputs": []
    },
    {
      "cell_type": "code",
      "source": [
        "x_train=sc_x.fit_transform(x_train)"
      ],
      "metadata": {
        "id": "-Vy6-szwPk49"
      },
      "execution_count": null,
      "outputs": []
    },
    {
      "cell_type": "code",
      "source": [
        "x_test=sc_x.fit_transform(x_test)"
      ],
      "metadata": {
        "id": "Om7FCr1-PtMP"
      },
      "execution_count": null,
      "outputs": []
    },
    {
      "cell_type": "code",
      "source": [
        "x_train"
      ],
      "metadata": {
        "id": "K3L5aPpSP4X_"
      },
      "execution_count": null,
      "outputs": []
    },
    {
      "cell_type": "code",
      "source": [
        "x_test"
      ],
      "metadata": {
        "id": "M_6QufcWP59S"
      },
      "execution_count": null,
      "outputs": []
    },
    {
      "cell_type": "code",
      "source": [
        "# features are the columns heading which tells the feature of that column\n",
        "# label means output we get from model after training like male, female in person column\n",
        "# features and labels are very specific as per our predictions\n",
        "# types of supervised ML algorithms-\n",
        "# 1- regression (a- linear regression, b- polynomial regression, c- regression trees)\n",
        "# 2- classification (a- random forest, b- decision trees, c- logistic regression, d- support vector machines)\n",
        "# regression--- values are continuous and there is some relation between dependent and independent variables\n",
        "# classification--- values are discrete/categorical/classes\n",
        "# types of unsupervised ML algorithms-\n",
        "# 1- clustering\n",
        "# 2- association (observing some of the almost fixed combinations)\n",
        "# unsupervised ML algorithms-\n",
        "# a- k-means clustering, b- knn(k-nearest neighbor), c- hierarchical clustering, d- neural networks/ deep learning,\n",
        "# e- single value decomposition, f- distribution models, g- principal component analysis, h- apriori algorithm\n",
        "# unsupervised learning--- for complex tasks, also helps in finding patterns, also saves lot of manual work, but has less accuracy\n"
      ],
      "metadata": {
        "id": "y-AgDw9pP7XT"
      },
      "execution_count": null,
      "outputs": []
    },
    {
      "cell_type": "code",
      "source": [
        "import pandas as pd"
      ],
      "metadata": {
        "id": "VNOdCjOsQfwk"
      },
      "execution_count": null,
      "outputs": []
    },
    {
      "cell_type": "code",
      "source": [
        "df=pd.read_csv('insurance.csv')"
      ],
      "metadata": {
        "id": "uOyBe-85-yNc"
      },
      "execution_count": null,
      "outputs": []
    },
    {
      "cell_type": "code",
      "source": [
        "df"
      ],
      "metadata": {
        "id": "nvnldQD8_JI7"
      },
      "execution_count": null,
      "outputs": []
    },
    {
      "cell_type": "code",
      "source": [
        "x=df['Age']"
      ],
      "metadata": {
        "id": "UWFZKESrAaC1"
      },
      "execution_count": null,
      "outputs": []
    },
    {
      "cell_type": "code",
      "source": [
        "y=df['Premium']"
      ],
      "metadata": {
        "id": "-UKMzO_YBHQF"
      },
      "execution_count": null,
      "outputs": []
    },
    {
      "cell_type": "code",
      "source": [
        "x   # seperated dependent and independent variable"
      ],
      "metadata": {
        "id": "QzxDRXVOBSSL"
      },
      "execution_count": null,
      "outputs": []
    },
    {
      "cell_type": "code",
      "source": [
        "y"
      ],
      "metadata": {
        "id": "d_eBBtvhBUbc"
      },
      "execution_count": null,
      "outputs": []
    },
    {
      "cell_type": "code",
      "source": [
        "from sklearn.model_selection import train_test_split"
      ],
      "metadata": {
        "id": "IhWPPR64BVTO"
      },
      "execution_count": null,
      "outputs": []
    },
    {
      "cell_type": "code",
      "source": [
        "x_train,x_test,y_train,y_test=train_test_split(x,y,test_size=0.2)"
      ],
      "metadata": {
        "id": "Z1IbgmhaB7Ht"
      },
      "execution_count": null,
      "outputs": []
    },
    {
      "cell_type": "code",
      "source": [
        "x_train"
      ],
      "metadata": {
        "id": "s5ZnPE_5CXWF"
      },
      "execution_count": null,
      "outputs": []
    },
    {
      "cell_type": "code",
      "source": [
        "x_test"
      ],
      "metadata": {
        "id": "mHZmBiGnCYvh"
      },
      "execution_count": null,
      "outputs": []
    },
    {
      "cell_type": "code",
      "source": [
        "y_train"
      ],
      "metadata": {
        "id": "8oJvd6OcCfd8"
      },
      "execution_count": null,
      "outputs": []
    },
    {
      "cell_type": "code",
      "source": [
        "y_test"
      ],
      "metadata": {
        "id": "JHl9D8MsChjq"
      },
      "execution_count": null,
      "outputs": []
    },
    {
      "cell_type": "code",
      "source": [
        "len(y_train)"
      ],
      "metadata": {
        "id": "K7SMZqhFCiyT"
      },
      "execution_count": null,
      "outputs": []
    },
    {
      "cell_type": "code",
      "source": [
        "len(y_test)"
      ],
      "metadata": {
        "id": "NRR55t_cCnY3"
      },
      "execution_count": null,
      "outputs": []
    },
    {
      "cell_type": "code",
      "source": [
        "# linear regression   # with single variable\n",
        "import pandas as pd\n",
        "import seaborn as sns\n",
        "from sklearn import linear_model"
      ],
      "metadata": {
        "id": "SThdIsR7Cpt9"
      },
      "execution_count": null,
      "outputs": []
    },
    {
      "cell_type": "code",
      "source": [
        "df=pd.read_csv('insurance.csv')"
      ],
      "metadata": {
        "id": "VL8kW-9jUt0s"
      },
      "execution_count": null,
      "outputs": []
    },
    {
      "cell_type": "code",
      "source": [
        "df"
      ],
      "metadata": {
        "id": "QPHSTr5yU2T-"
      },
      "execution_count": null,
      "outputs": []
    },
    {
      "cell_type": "code",
      "source": [
        "sns.lmplot(x='Age',y='Premium',data=df)"
      ],
      "metadata": {
        "id": "NDTvVqBhU8Em"
      },
      "execution_count": null,
      "outputs": []
    },
    {
      "cell_type": "code",
      "source": [
        "reg=linear_model.LinearRegression()"
      ],
      "metadata": {
        "id": "f0Q_OUjrVBIF"
      },
      "execution_count": null,
      "outputs": []
    },
    {
      "cell_type": "code",
      "source": [
        "reg.fit(df[['Age']],df['Premium'])"
      ],
      "metadata": {
        "id": "DosRqs63VSOo"
      },
      "execution_count": null,
      "outputs": []
    },
    {
      "cell_type": "code",
      "source": [
        "reg.predict([[21]])"
      ],
      "metadata": {
        "id": "oe1xfqPGVY1M"
      },
      "execution_count": null,
      "outputs": []
    },
    {
      "cell_type": "code",
      "source": [
        "reg.predict([[50]])"
      ],
      "metadata": {
        "id": "xD6QvsLNVqNS"
      },
      "execution_count": null,
      "outputs": []
    },
    {
      "cell_type": "code",
      "source": [
        "reg.coef_   # finding coefficient in y=mx+c which is m"
      ],
      "metadata": {
        "id": "0fXxkICUV2bM"
      },
      "execution_count": null,
      "outputs": []
    },
    {
      "cell_type": "code",
      "source": [
        "reg.intercept_"
      ],
      "metadata": {
        "id": "XTlcOtWeV8ca"
      },
      "execution_count": null,
      "outputs": []
    },
    {
      "cell_type": "code",
      "source": [
        "# y=mx+c\n",
        "# y=1780*21+(-23500)=13880   # hence verified"
      ],
      "metadata": {
        "id": "-GIxxJgIWDLj"
      },
      "execution_count": null,
      "outputs": []
    },
    {
      "cell_type": "code",
      "source": [
        "# linear regression   # with multiple variables, ex--- for a 'good-crop' how much of 'pesticides' & 'water' is required in quality/ quantity"
      ],
      "metadata": {
        "id": "hpGoakI2WzhO"
      },
      "execution_count": null,
      "outputs": []
    },
    {
      "cell_type": "code",
      "source": [
        "df=pd.read_csv('insurancenew.csv')\n"
      ],
      "metadata": {
        "id": "DqQz9A9SXamn"
      },
      "execution_count": null,
      "outputs": []
    },
    {
      "cell_type": "code",
      "source": [
        "df"
      ],
      "metadata": {
        "id": "JqaCkqIYYeNM"
      },
      "execution_count": null,
      "outputs": []
    },
    {
      "cell_type": "code",
      "source": [
        "# we can also drop 4th row to remove missing value but if max of values are missing, but here only one value is missing so we will\n",
        "# not use this method rather we will replace it by the mean of that column's data"
      ],
      "metadata": {
        "id": "6AQZNzl1Ye9X"
      },
      "execution_count": null,
      "outputs": []
    },
    {
      "cell_type": "code",
      "source": [
        "mean_height=df.height.mean()"
      ],
      "metadata": {
        "id": "T9F85tQ0Y_0X"
      },
      "execution_count": null,
      "outputs": []
    },
    {
      "cell_type": "code",
      "source": [
        "mean_height"
      ],
      "metadata": {
        "id": "f42Hrl41ZXTR"
      },
      "execution_count": null,
      "outputs": []
    },
    {
      "cell_type": "code",
      "source": [
        "df.height=df.height.fillna(mean_height)"
      ],
      "metadata": {
        "id": "4ZWgNGGCZDMU"
      },
      "execution_count": null,
      "outputs": []
    },
    {
      "cell_type": "code",
      "source": [
        "df   # missing value is replace by the mean"
      ],
      "metadata": {
        "id": "F9I31Ve9ZJNQ"
      },
      "execution_count": null,
      "outputs": []
    },
    {
      "cell_type": "code",
      "source": [
        "reg=linear_model.LinearRegression()"
      ],
      "metadata": {
        "id": "wqOPMPddZk5n"
      },
      "execution_count": null,
      "outputs": []
    },
    {
      "cell_type": "code",
      "source": [
        "reg.fit(df[['Age','height','weight']],df['Premium'])   # it means model trained well"
      ],
      "metadata": {
        "id": "VeQe3N0-Zv8R"
      },
      "execution_count": null,
      "outputs": []
    },
    {
      "cell_type": "code",
      "source": [
        "# linear regression with single variable--- formula--- y=mx1+mx2+mx3+c"
      ],
      "metadata": {
        "id": "GOpaL0w-o3VA"
      },
      "execution_count": null,
      "outputs": []
    },
    {
      "cell_type": "code",
      "source": [
        "reg.coef_"
      ],
      "metadata": {
        "id": "iHU85wAGpRAK"
      },
      "execution_count": null,
      "outputs": []
    },
    {
      "cell_type": "code",
      "source": [
        "reg.intercept_"
      ],
      "metadata": {
        "id": "QmMui1rZpUKO"
      },
      "execution_count": null,
      "outputs": []
    },
    {
      "cell_type": "code",
      "source": [
        "reg.predict([[27,167.56,60]])  # predict premium whose age is 27, height is 165.56 and weight is 60."
      ],
      "metadata": {
        "id": "4aE-9IGIpWxU"
      },
      "execution_count": null,
      "outputs": []
    },
    {
      "cell_type": "code",
      "source": [
        "# let's check, y=mx1+mx2+mx3+c\n",
        "# y= 2127.07477133*27 + 670.09657837*167.56 - 120.87603118*60 + (-135691.82175481433) = 26768.0178791003"
      ],
      "metadata": {
        "id": "EXGiy5hGp1OV"
      },
      "execution_count": null,
      "outputs": []
    },
    {
      "cell_type": "code",
      "source": [
        "# polynomial regression, if the data points are in non linear form, we can't apply linear regression which will show too much of errors\n",
        "# 0 degree polynomial--- formula--- y= constant\n",
        "# 1 degree polynomial--- formula--- y= mx + c\n",
        "# 2 degree polynomial--- formula--- y= ax^2 + bx + c\n",
        "# generalized formula--- ao + a1x + a2(x^2) + a3(x^3) + ... + an(x^n)"
      ],
      "metadata": {
        "id": "53-NGNHLq3D8"
      },
      "execution_count": null,
      "outputs": []
    },
    {
      "cell_type": "code",
      "source": [
        "import pandas as pd\n",
        "import numpy as np\n",
        "import matplotlib.pyplot as plt\n",
        "import seaborn as sns"
      ],
      "metadata": {
        "id": "kUUhGBJ4sDl4"
      },
      "execution_count": null,
      "outputs": []
    },
    {
      "cell_type": "code",
      "source": [
        "dataset=pd.read_csv('positionsalaries.csv')"
      ],
      "metadata": {
        "id": "JpdMZ8Jktzx4"
      },
      "execution_count": null,
      "outputs": []
    },
    {
      "cell_type": "code",
      "source": [
        "dataset"
      ],
      "metadata": {
        "id": "Vq-LfdMmt2_C"
      },
      "execution_count": null,
      "outputs": []
    },
    {
      "cell_type": "code",
      "source": [
        "x=dataset.iloc[:,1:2].values"
      ],
      "metadata": {
        "id": "kKuHX9Fqt-oc"
      },
      "execution_count": null,
      "outputs": []
    },
    {
      "cell_type": "code",
      "source": [
        "x"
      ],
      "metadata": {
        "id": "JOQP4ZiyuD7b"
      },
      "execution_count": null,
      "outputs": []
    },
    {
      "cell_type": "code",
      "source": [
        "y=dataset.iloc[:,2].values"
      ],
      "metadata": {
        "id": "boj6516buFDv"
      },
      "execution_count": null,
      "outputs": []
    },
    {
      "cell_type": "code",
      "source": [
        "y"
      ],
      "metadata": {
        "id": "d6yvY-uguW0e"
      },
      "execution_count": null,
      "outputs": []
    },
    {
      "cell_type": "code",
      "source": [
        "plt.scatter(x,y)"
      ],
      "metadata": {
        "id": "TFexL6ySuXaR"
      },
      "execution_count": null,
      "outputs": []
    },
    {
      "cell_type": "code",
      "source": [
        "sns.lmplot(x='level',y='salary',data=dataset)"
      ],
      "metadata": {
        "id": "-35EQgJSugPl"
      },
      "execution_count": null,
      "outputs": []
    },
    {
      "cell_type": "code",
      "source": [
        "from sklearn import linear_model"
      ],
      "metadata": {
        "id": "07907hu2uoRa"
      },
      "execution_count": null,
      "outputs": []
    },
    {
      "cell_type": "code",
      "source": [
        "reg= linear_model.LinearRegression()"
      ],
      "metadata": {
        "id": "UD-2rlKOu3_i"
      },
      "execution_count": null,
      "outputs": []
    },
    {
      "cell_type": "code",
      "source": [
        "reg.fit(x,y)"
      ],
      "metadata": {
        "id": "VTr6YleZu9X1"
      },
      "execution_count": null,
      "outputs": []
    },
    {
      "cell_type": "code",
      "source": [
        "reg.predict([[6.5]])"
      ],
      "metadata": {
        "id": "hbZtG57cvAlY"
      },
      "execution_count": null,
      "outputs": []
    },
    {
      "cell_type": "code",
      "source": [
        "from sklearn.preprocessing import PolynomialFeatures"
      ],
      "metadata": {
        "id": "DPNp3MG8vGTW"
      },
      "execution_count": null,
      "outputs": []
    },
    {
      "cell_type": "code",
      "source": [
        "poly= PolynomialFeatures(degree=2)"
      ],
      "metadata": {
        "id": "f28YEC0GvMRj"
      },
      "execution_count": null,
      "outputs": []
    },
    {
      "cell_type": "code",
      "source": [
        "x_poly=poly.fit_transform(x)"
      ],
      "metadata": {
        "id": "06PU27tfvPUC"
      },
      "execution_count": null,
      "outputs": []
    },
    {
      "cell_type": "code",
      "source": [
        "reg2=linear_model.LinearRegression()"
      ],
      "metadata": {
        "id": "LpBu3voEvUCG"
      },
      "execution_count": null,
      "outputs": []
    },
    {
      "cell_type": "code",
      "source": [
        "reg2.fit(x_poly,y)"
      ],
      "metadata": {
        "id": "ff1YI0v3vYQc"
      },
      "execution_count": null,
      "outputs": []
    },
    {
      "cell_type": "code",
      "source": [
        "reg2.predict(poly.fit_transform([[6.5]]))   # so while increasing the degree, value increases, but doesn't mean accuracy increases"
      ],
      "metadata": {
        "id": "EMtnxOMzvcEA"
      },
      "execution_count": null,
      "outputs": []
    },
    {
      "cell_type": "code",
      "source": [
        "import pandas as pd\n",
        "import matplotlib.pyplot as plt\n"
      ],
      "metadata": {
        "id": "rhqL4kvAvi_i"
      },
      "execution_count": null,
      "outputs": []
    },
    {
      "cell_type": "code",
      "source": [
        "dataset=pd.read_csv('boughtinsurance.csv')"
      ],
      "metadata": {
        "id": "iqviv-o6wicF"
      },
      "execution_count": null,
      "outputs": []
    },
    {
      "cell_type": "code",
      "source": [
        "dataset"
      ],
      "metadata": {
        "id": "1fYKFog6wsqz"
      },
      "execution_count": null,
      "outputs": []
    },
    {
      "cell_type": "code",
      "source": [],
      "metadata": {
        "id": "CQPGa7gHwuVA"
      },
      "execution_count": null,
      "outputs": []
    }
  ],
  "metadata": {
    "colab": {
      "name": "Welcome To Colab",
      "provenance": [],
      "include_colab_link": true
    },
    "kernelspec": {
      "display_name": "Python 3",
      "name": "python3"
    }
  },
  "nbformat": 4,
  "nbformat_minor": 0
}