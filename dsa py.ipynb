{
  "nbformat": 4,
  "nbformat_minor": 0,
  "metadata": {
    "colab": {
      "provenance": [],
      "authorship_tag": "ABX9TyO4Jhznu+uGaNHM4pCpvu3R",
      "include_colab_link": true
    },
    "kernelspec": {
      "name": "python3",
      "display_name": "Python 3"
    },
    "language_info": {
      "name": "python"
    }
  },
  "cells": [
    {
      "cell_type": "markdown",
      "metadata": {
        "id": "view-in-github",
        "colab_type": "text"
      },
      "source": [
        "<a href=\"https://colab.research.google.com/github/chandel2023/CODSOFT/blob/main/dsa%20py.ipynb\" target=\"_parent\"><img src=\"https://colab.research.google.com/assets/colab-badge.svg\" alt=\"Open In Colab\"/></a>"
      ]
    },
    {
      "cell_type": "code",
      "execution_count": null,
      "metadata": {
        "id": "KZgYjdeMDXVe"
      },
      "outputs": [],
      "source": [
        "import sys"
      ]
    },
    {
      "cell_type": "code",
      "source": [
        "L= []\n",
        "sys.getsizeof(L)"
      ],
      "metadata": {
        "colab": {
          "base_uri": "https://localhost:8080/"
        },
        "id": "HT07qsK7Di9_",
        "outputId": "9e26801b-898e-489e-e9e1-d4d2e30198f9"
      },
      "execution_count": null,
      "outputs": [
        {
          "output_type": "execute_result",
          "data": {
            "text/plain": [
              "56"
            ]
          },
          "metadata": {},
          "execution_count": 2
        }
      ]
    },
    {
      "cell_type": "code",
      "source": [
        "L.append(1)"
      ],
      "metadata": {
        "id": "VAvlOJnFDjEu"
      },
      "execution_count": null,
      "outputs": []
    },
    {
      "cell_type": "code",
      "source": [
        "L"
      ],
      "metadata": {
        "colab": {
          "base_uri": "https://localhost:8080/"
        },
        "id": "QLCFmZyeDjMC",
        "outputId": "602b9eee-d450-4e6e-97ba-f7c6848264a6"
      },
      "execution_count": null,
      "outputs": [
        {
          "output_type": "execute_result",
          "data": {
            "text/plain": [
              "['hello', 'world', 'namaste', '1', 1]"
            ]
          },
          "metadata": {},
          "execution_count": 16
        }
      ]
    },
    {
      "cell_type": "code",
      "source": [
        "sys.getsizeof(L)"
      ],
      "metadata": {
        "colab": {
          "base_uri": "https://localhost:8080/"
        },
        "id": "cXl_R4W-D98p",
        "outputId": "06218b30-1fad-4cb4-9095-eed2e56b5d7e"
      },
      "execution_count": null,
      "outputs": [
        {
          "output_type": "execute_result",
          "data": {
            "text/plain": [
              "120"
            ]
          },
          "metadata": {},
          "execution_count": 17
        }
      ]
    },
    {
      "cell_type": "code",
      "source": [
        "import sys\n"
      ],
      "metadata": {
        "id": "8LuC1Me-D-Az"
      },
      "execution_count": null,
      "outputs": []
    },
    {
      "cell_type": "code",
      "source": [
        "L= []\n",
        "\n",
        "for i in range(100):\n",
        "  print(i, sys.getsizeof(L))\n",
        "  L.append(i)\n"
      ],
      "metadata": {
        "id": "YKCZhQXRD-EN",
        "outputId": "14284645-ad08-4c9b-f5f7-3a2bc72c773c",
        "colab": {
          "base_uri": "https://localhost:8080/"
        }
      },
      "execution_count": null,
      "outputs": [
        {
          "output_type": "stream",
          "name": "stdout",
          "text": [
            "0 56\n",
            "1 88\n",
            "2 88\n",
            "3 88\n",
            "4 88\n",
            "5 120\n",
            "6 120\n",
            "7 120\n",
            "8 120\n",
            "9 184\n",
            "10 184\n",
            "11 184\n",
            "12 184\n",
            "13 184\n",
            "14 184\n",
            "15 184\n",
            "16 184\n",
            "17 248\n",
            "18 248\n",
            "19 248\n",
            "20 248\n",
            "21 248\n",
            "22 248\n",
            "23 248\n",
            "24 248\n",
            "25 312\n",
            "26 312\n",
            "27 312\n",
            "28 312\n",
            "29 312\n",
            "30 312\n",
            "31 312\n",
            "32 312\n",
            "33 376\n",
            "34 376\n",
            "35 376\n",
            "36 376\n",
            "37 376\n",
            "38 376\n",
            "39 376\n",
            "40 376\n",
            "41 472\n",
            "42 472\n",
            "43 472\n",
            "44 472\n",
            "45 472\n",
            "46 472\n",
            "47 472\n",
            "48 472\n",
            "49 472\n",
            "50 472\n",
            "51 472\n",
            "52 472\n",
            "53 568\n",
            "54 568\n",
            "55 568\n",
            "56 568\n",
            "57 568\n",
            "58 568\n",
            "59 568\n",
            "60 568\n",
            "61 568\n",
            "62 568\n",
            "63 568\n",
            "64 568\n",
            "65 664\n",
            "66 664\n",
            "67 664\n",
            "68 664\n",
            "69 664\n",
            "70 664\n",
            "71 664\n",
            "72 664\n",
            "73 664\n",
            "74 664\n",
            "75 664\n",
            "76 664\n",
            "77 792\n",
            "78 792\n",
            "79 792\n",
            "80 792\n",
            "81 792\n",
            "82 792\n",
            "83 792\n",
            "84 792\n",
            "85 792\n",
            "86 792\n",
            "87 792\n",
            "88 792\n",
            "89 792\n",
            "90 792\n",
            "91 792\n",
            "92 792\n",
            "93 920\n",
            "94 920\n",
            "95 920\n",
            "96 920\n",
            "97 920\n",
            "98 920\n",
            "99 920\n"
          ]
        }
      ]
    },
    {
      "cell_type": "code",
      "source": [
        "import ctypes"
      ],
      "metadata": {
        "id": "gqv5cr8ID-H9"
      },
      "execution_count": 1,
      "outputs": []
    },
    {
      "cell_type": "code",
      "source": [
        "# create list\n",
        "class MyList:\n",
        "  def __init__(self):\n",
        "    self.size=1\n",
        "    self.n=0\n",
        "    # create a c type array with size = self.size\n",
        "    self.A=self.__make_array(self.size)\n",
        "\n",
        "  def __len__(self):\n",
        "    return self.n\n",
        "\n",
        "  def append(self,item):\n",
        "    if self.n == self.size:\n",
        "      # resize\n",
        "      self.__resize(self.size*2)\n",
        "    # append\n",
        "    self.A[self.n]=item\n",
        "    self.n +=1\n",
        "\n",
        "  def __make_array(self, capacity):\n",
        "    #creates a c type array(static, referential) with size capacity\n",
        "    return (capacity * ctypes.py_object)()\n",
        "\n",
        "  def __len__(self):\n",
        "    return self.n"
      ],
      "metadata": {
        "id": "R0xAiAhoD-LY"
      },
      "execution_count": 8,
      "outputs": []
    },
    {
      "cell_type": "code",
      "source": [
        "L= MyList()"
      ],
      "metadata": {
        "id": "F0Er-_TdD-Th"
      },
      "execution_count": 4,
      "outputs": []
    },
    {
      "cell_type": "code",
      "source": [
        "type(L)"
      ],
      "metadata": {
        "id": "YviJkVniD-W1",
        "outputId": "2e076f60-22b4-4781-a5d9-b9860e1b31c2",
        "colab": {
          "base_uri": "https://localhost:8080/",
          "height": 103
        }
      },
      "execution_count": 5,
      "outputs": [
        {
          "output_type": "execute_result",
          "data": {
            "text/plain": [
              "__main__.MyList"
            ],
            "text/html": [
              "<div style=\"max-width:800px; border: 1px solid var(--colab-border-color);\"><style>\n",
              "      pre.function-repr-contents {\n",
              "        overflow-x: auto;\n",
              "        padding: 8px 12px;\n",
              "        max-height: 500px;\n",
              "      }\n",
              "\n",
              "      pre.function-repr-contents.function-repr-contents-collapsed {\n",
              "        cursor: pointer;\n",
              "        max-height: 100px;\n",
              "      }\n",
              "    </style>\n",
              "    <pre style=\"white-space: initial; background:\n",
              "         var(--colab-secondary-surface-color); padding: 8px 12px;\n",
              "         border-bottom: 1px solid var(--colab-border-color);\"><b>MyList</b><br/>def __init__()</pre><pre class=\"function-repr-contents function-repr-contents-collapsed\" style=\"\"><a class=\"filepath\" style=\"display:none\" href=\"#\"></a>&lt;no docstring&gt;</pre></div>"
            ]
          },
          "metadata": {},
          "execution_count": 5
        }
      ]
    },
    {
      "cell_type": "code",
      "source": [
        "print(L)"
      ],
      "metadata": {
        "id": "7Oyh93LdH8V8",
        "outputId": "e235ef98-a16e-4d94-b0a8-4c357cd4c755",
        "colab": {
          "base_uri": "https://localhost:8080/"
        }
      },
      "execution_count": 6,
      "outputs": [
        {
          "output_type": "stream",
          "name": "stdout",
          "text": [
            "<__main__.MyList object at 0x7d9931e68850>\n"
          ]
        }
      ]
    },
    {
      "cell_type": "code",
      "source": [
        "# len\n",
        "L = [10,20,30,40]\n",
        "len(L)"
      ],
      "metadata": {
        "id": "ORKM0k3YH8Ye",
        "outputId": "548ba672-6f4f-4170-d7e2-d556f45f8487",
        "colab": {
          "base_uri": "https://localhost:8080/"
        }
      },
      "execution_count": 10,
      "outputs": [
        {
          "output_type": "execute_result",
          "data": {
            "text/plain": [
              "4"
            ]
          },
          "metadata": {},
          "execution_count": 10
        }
      ]
    },
    {
      "cell_type": "code",
      "source": [
        "L.append('namaste')"
      ],
      "metadata": {
        "id": "_jXiijk-H8bM"
      },
      "execution_count": 11,
      "outputs": []
    },
    {
      "cell_type": "code",
      "source": [
        "L"
      ],
      "metadata": {
        "id": "XB6AzWJPH8ed",
        "outputId": "e3fcff70-c80c-486a-b982-93cf1174f8de",
        "colab": {
          "base_uri": "https://localhost:8080/"
        }
      },
      "execution_count": 12,
      "outputs": [
        {
          "output_type": "execute_result",
          "data": {
            "text/plain": [
              "[10, 20, 30, 40, 'namaste']"
            ]
          },
          "metadata": {},
          "execution_count": 12
        }
      ]
    },
    {
      "cell_type": "code",
      "source": [],
      "metadata": {
        "id": "8y2hvFoQH8hh"
      },
      "execution_count": null,
      "outputs": []
    },
    {
      "cell_type": "code",
      "source": [],
      "metadata": {
        "id": "TmrarB1EH8ka"
      },
      "execution_count": null,
      "outputs": []
    },
    {
      "cell_type": "code",
      "source": [],
      "metadata": {
        "id": "J2Pf5-kvH8oC"
      },
      "execution_count": null,
      "outputs": []
    }
  ]
}